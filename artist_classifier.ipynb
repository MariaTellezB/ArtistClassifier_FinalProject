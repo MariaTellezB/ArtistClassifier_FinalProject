{
  "cells": [
    {
      "cell_type": "markdown",
      "metadata": {
        "id": "fZHM_KuH7CAv"
      },
      "source": [
        "# setup"
      ]
    },
    {
      "cell_type": "markdown",
      "metadata": {
        "id": "a240enTK8rii"
      },
      "source": [
        "## libraries"
      ]
    },
    {
      "cell_type": "code",
      "execution_count": null,
      "metadata": {
        "id": "lwfXF9P7wsg2"
      },
      "outputs": [],
      "source": [
        "import os\n",
        "import zipfile\n",
        "import shutil\n",
        "import pandas as pd\n",
        "import torch\n",
        "import torch.nn as nn\n",
        "import torch.nn.functional as F\n",
        "import matplotlib.pyplot as plt\n",
        "\n",
        "from progressbar import progressbar\n",
        "from sklearn.model_selection import train_test_split\n",
        "from google.colab import drive\n",
        "from torchvision.datasets import ImageFolder\n",
        "from torchvision import transforms\n",
        "from torch.utils.data import DataLoader"
      ]
    },
    {
      "cell_type": "code",
      "source": [
        "plt.rcParams['font.size'] = 14"
      ],
      "metadata": {
        "id": "xD4bb_d4iu7i"
      },
      "execution_count": null,
      "outputs": []
    },
    {
      "cell_type": "code",
      "execution_count": null,
      "metadata": {
        "colab": {
          "base_uri": "https://localhost:8080/"
        },
        "id": "oiYUpsj8qqKC",
        "outputId": "4156cde6-a051-43ae-8c69-c38275311daa"
      },
      "outputs": [
        {
          "output_type": "stream",
          "name": "stdout",
          "text": [
            "Mounted at /content/gdrive\n"
          ]
        }
      ],
      "source": [
        "# load gdrive folder\n",
        "drive.mount('/content/gdrive', force_remount=True)"
      ]
    },
    {
      "cell_type": "code",
      "source": [
        "# setup device to train on gpu\n",
        "device = torch.device('cuda:0' if torch.cuda.is_available() else 'cpu')\n",
        "print(device)"
      ],
      "metadata": {
        "colab": {
          "base_uri": "https://localhost:8080/"
        },
        "id": "Y9P518j8P7Xy",
        "outputId": "92f96ebd-783d-4eac-849e-5d7b23fe3dc8"
      },
      "execution_count": null,
      "outputs": [
        {
          "output_type": "stream",
          "name": "stdout",
          "text": [
            "cuda:0\n"
          ]
        }
      ]
    },
    {
      "cell_type": "markdown",
      "metadata": {
        "id": "uyT5gYRY7c5b"
      },
      "source": [
        "# data"
      ]
    },
    {
      "cell_type": "markdown",
      "metadata": {
        "id": "aRuw9MCk73jn"
      },
      "source": [
        "## environment variables"
      ]
    },
    {
      "cell_type": "code",
      "execution_count": null,
      "metadata": {
        "id": "-exZpr1a7248"
      },
      "outputs": [],
      "source": [
        "PATH = os.path.abspath('/content/gdrive/MyDrive/ArtistClass/')"
      ]
    },
    {
      "cell_type": "markdown",
      "metadata": {
        "id": "39QIxhFD7iy_"
      },
      "source": [
        "## extract"
      ]
    },
    {
      "cell_type": "code",
      "execution_count": null,
      "metadata": {
        "id": "lEpWHLr8tg3A"
      },
      "outputs": [],
      "source": [
        "# unzip data\n",
        "path_to_zip_file = '/content/gdrive/MyDrive/ArtistClass/data.zip'\n",
        "directory_to_extract_to = '/content/gdrive/MyDrive/ArtistClass/data'\n",
        "\n",
        "if not os.path.exists(directory_to_extract_to):\n",
        "    with zipfile.ZipFile(path_to_zip_file, 'r') as zip_ref:\n",
        "        zip_ref.extractall(directory_to_extract_to)"
      ]
    },
    {
      "cell_type": "code",
      "execution_count": null,
      "metadata": {
        "id": "b1YaN6wpt3tR",
        "colab": {
          "base_uri": "https://localhost:8080/"
        },
        "outputId": "34ba7e92-19fc-4f4e-e364-1c5b470f708b"
      },
      "outputs": [
        {
          "output_type": "execute_result",
          "data": {
            "text/plain": [
              "['artists.csv', 'images', 'resized', 'train', 'test']"
            ]
          },
          "metadata": {},
          "execution_count": 8
        }
      ],
      "source": [
        "# check unzip list extracted directory\n",
        "os.listdir(directory_to_extract_to)[:10]"
      ]
    },
    {
      "cell_type": "markdown",
      "metadata": {
        "id": "tmvKBf5t8A5i"
      },
      "source": [
        "## split train/test"
      ]
    },
    {
      "cell_type": "code",
      "execution_count": null,
      "metadata": {
        "colab": {
          "base_uri": "https://localhost:8080/",
          "height": 359
        },
        "id": "Bi1RYIuPwSW2",
        "outputId": "06e07349-0910-424b-ec7e-e0c1baf62596"
      },
      "outputs": [
        {
          "output_type": "execute_result",
          "data": {
            "text/plain": [
              "                     name  paintings\n",
              "8        Vincent_van_Gogh        877\n",
              "30            Edgar_Degas        702\n",
              "13          Pablo_Picasso        439\n",
              "15  Pierre-Auguste_Renoir        336\n",
              "19         Albrecht_Dürer        328\n",
              "46           Paul_Gauguin        311\n",
              "16         Francisco_Goya        291\n",
              "31              Rembrandt        262\n",
              "20          Alfred_Sisley        259\n",
              "32                 Titian        255"
            ],
            "text/html": [
              "\n",
              "  <div id=\"df-fc5f696e-669e-4cc6-b373-7faa9a2a7376\">\n",
              "    <div class=\"colab-df-container\">\n",
              "      <div>\n",
              "<style scoped>\n",
              "    .dataframe tbody tr th:only-of-type {\n",
              "        vertical-align: middle;\n",
              "    }\n",
              "\n",
              "    .dataframe tbody tr th {\n",
              "        vertical-align: top;\n",
              "    }\n",
              "\n",
              "    .dataframe thead th {\n",
              "        text-align: right;\n",
              "    }\n",
              "</style>\n",
              "<table border=\"1\" class=\"dataframe\">\n",
              "  <thead>\n",
              "    <tr style=\"text-align: right;\">\n",
              "      <th></th>\n",
              "      <th>name</th>\n",
              "      <th>paintings</th>\n",
              "    </tr>\n",
              "  </thead>\n",
              "  <tbody>\n",
              "    <tr>\n",
              "      <th>8</th>\n",
              "      <td>Vincent_van_Gogh</td>\n",
              "      <td>877</td>\n",
              "    </tr>\n",
              "    <tr>\n",
              "      <th>30</th>\n",
              "      <td>Edgar_Degas</td>\n",
              "      <td>702</td>\n",
              "    </tr>\n",
              "    <tr>\n",
              "      <th>13</th>\n",
              "      <td>Pablo_Picasso</td>\n",
              "      <td>439</td>\n",
              "    </tr>\n",
              "    <tr>\n",
              "      <th>15</th>\n",
              "      <td>Pierre-Auguste_Renoir</td>\n",
              "      <td>336</td>\n",
              "    </tr>\n",
              "    <tr>\n",
              "      <th>19</th>\n",
              "      <td>Albrecht_Dürer</td>\n",
              "      <td>328</td>\n",
              "    </tr>\n",
              "    <tr>\n",
              "      <th>46</th>\n",
              "      <td>Paul_Gauguin</td>\n",
              "      <td>311</td>\n",
              "    </tr>\n",
              "    <tr>\n",
              "      <th>16</th>\n",
              "      <td>Francisco_Goya</td>\n",
              "      <td>291</td>\n",
              "    </tr>\n",
              "    <tr>\n",
              "      <th>31</th>\n",
              "      <td>Rembrandt</td>\n",
              "      <td>262</td>\n",
              "    </tr>\n",
              "    <tr>\n",
              "      <th>20</th>\n",
              "      <td>Alfred_Sisley</td>\n",
              "      <td>259</td>\n",
              "    </tr>\n",
              "    <tr>\n",
              "      <th>32</th>\n",
              "      <td>Titian</td>\n",
              "      <td>255</td>\n",
              "    </tr>\n",
              "  </tbody>\n",
              "</table>\n",
              "</div>\n",
              "      <button class=\"colab-df-convert\" onclick=\"convertToInteractive('df-fc5f696e-669e-4cc6-b373-7faa9a2a7376')\"\n",
              "              title=\"Convert this dataframe to an interactive table.\"\n",
              "              style=\"display:none;\">\n",
              "        \n",
              "  <svg xmlns=\"http://www.w3.org/2000/svg\" height=\"24px\"viewBox=\"0 0 24 24\"\n",
              "       width=\"24px\">\n",
              "    <path d=\"M0 0h24v24H0V0z\" fill=\"none\"/>\n",
              "    <path d=\"M18.56 5.44l.94 2.06.94-2.06 2.06-.94-2.06-.94-.94-2.06-.94 2.06-2.06.94zm-11 1L8.5 8.5l.94-2.06 2.06-.94-2.06-.94L8.5 2.5l-.94 2.06-2.06.94zm10 10l.94 2.06.94-2.06 2.06-.94-2.06-.94-.94-2.06-.94 2.06-2.06.94z\"/><path d=\"M17.41 7.96l-1.37-1.37c-.4-.4-.92-.59-1.43-.59-.52 0-1.04.2-1.43.59L10.3 9.45l-7.72 7.72c-.78.78-.78 2.05 0 2.83L4 21.41c.39.39.9.59 1.41.59.51 0 1.02-.2 1.41-.59l7.78-7.78 2.81-2.81c.8-.78.8-2.07 0-2.86zM5.41 20L4 18.59l7.72-7.72 1.47 1.35L5.41 20z\"/>\n",
              "  </svg>\n",
              "      </button>\n",
              "      \n",
              "  <style>\n",
              "    .colab-df-container {\n",
              "      display:flex;\n",
              "      flex-wrap:wrap;\n",
              "      gap: 12px;\n",
              "    }\n",
              "\n",
              "    .colab-df-convert {\n",
              "      background-color: #E8F0FE;\n",
              "      border: none;\n",
              "      border-radius: 50%;\n",
              "      cursor: pointer;\n",
              "      display: none;\n",
              "      fill: #1967D2;\n",
              "      height: 32px;\n",
              "      padding: 0 0 0 0;\n",
              "      width: 32px;\n",
              "    }\n",
              "\n",
              "    .colab-df-convert:hover {\n",
              "      background-color: #E2EBFA;\n",
              "      box-shadow: 0px 1px 2px rgba(60, 64, 67, 0.3), 0px 1px 3px 1px rgba(60, 64, 67, 0.15);\n",
              "      fill: #174EA6;\n",
              "    }\n",
              "\n",
              "    [theme=dark] .colab-df-convert {\n",
              "      background-color: #3B4455;\n",
              "      fill: #D2E3FC;\n",
              "    }\n",
              "\n",
              "    [theme=dark] .colab-df-convert:hover {\n",
              "      background-color: #434B5C;\n",
              "      box-shadow: 0px 1px 3px 1px rgba(0, 0, 0, 0.15);\n",
              "      filter: drop-shadow(0px 1px 2px rgba(0, 0, 0, 0.3));\n",
              "      fill: #FFFFFF;\n",
              "    }\n",
              "  </style>\n",
              "\n",
              "      <script>\n",
              "        const buttonEl =\n",
              "          document.querySelector('#df-fc5f696e-669e-4cc6-b373-7faa9a2a7376 button.colab-df-convert');\n",
              "        buttonEl.style.display =\n",
              "          google.colab.kernel.accessAllowed ? 'block' : 'none';\n",
              "\n",
              "        async function convertToInteractive(key) {\n",
              "          const element = document.querySelector('#df-fc5f696e-669e-4cc6-b373-7faa9a2a7376');\n",
              "          const dataTable =\n",
              "            await google.colab.kernel.invokeFunction('convertToInteractive',\n",
              "                                                     [key], {});\n",
              "          if (!dataTable) return;\n",
              "\n",
              "          const docLinkHtml = 'Like what you see? Visit the ' +\n",
              "            '<a target=\"_blank\" href=https://colab.research.google.com/notebooks/data_table.ipynb>data table notebook</a>'\n",
              "            + ' to learn more about interactive tables.';\n",
              "          element.innerHTML = '';\n",
              "          dataTable['output_type'] = 'display_data';\n",
              "          await google.colab.output.renderOutput(dataTable, element);\n",
              "          const docLink = document.createElement('div');\n",
              "          docLink.innerHTML = docLinkHtml;\n",
              "          element.appendChild(docLink);\n",
              "        }\n",
              "      </script>\n",
              "    </div>\n",
              "  </div>\n",
              "  "
            ]
          },
          "metadata": {},
          "execution_count": 9
        }
      ],
      "source": [
        "# format data intro train/test sets\n",
        "# read artist data\n",
        "artists_path = os.path.join(PATH, 'data/artists.csv')\n",
        "df_artists = pd.read_csv(artists_path)\n",
        "\n",
        "df_top = df_artists.sort_values('paintings', ascending=False)[['name', 'paintings']].head(10)\n",
        "df_top['name'] = df_top['name'].str.replace(' ', '_')\n",
        "\n",
        "df_top"
      ]
    },
    {
      "cell_type": "code",
      "source": [
        "train_path = os.path.join(PATH, 'data', 'train')\n",
        "test_path = os.path.join(PATH, 'data', 'test')"
      ],
      "metadata": {
        "id": "aAjok5uLpibx"
      },
      "execution_count": null,
      "outputs": []
    },
    {
      "cell_type": "code",
      "execution_count": null,
      "metadata": {
        "id": "UqA1cfmFxKN4"
      },
      "outputs": [],
      "source": [
        "# clear train test directories\n",
        "if os.path.exists(train_path):\n",
        "    shutil.rmtree(train_path)\n",
        "\n",
        "if os.path.exists(test_path):\n",
        "    shutil.rmtree(test_path)\n",
        "\n",
        "# make train test directories\n",
        "os.mkdir(train_path)\n",
        "os.mkdir(test_path)"
      ]
    },
    {
      "cell_type": "code",
      "execution_count": null,
      "metadata": {
        "colab": {
          "base_uri": "https://localhost:8080/"
        },
        "id": "-0EK6sOlw0mr",
        "outputId": "a3719d95-b33e-48ee-962f-f0a9ac447c6f"
      },
      "outputs": [
        {
          "output_type": "stream",
          "name": "stderr",
          "text": [
            "train/Vincent_van_Gogh 100% (701 of 701) || Elapsed Time: 0:00:19 Time:  0:00:19\n",
            "test/Vincent_van_Gogh 100% (176 of 176) || Elapsed Time: 0:00:02 Time:  0:00:02\n",
            "train/Edgar_Degas 100% (561 of 561) |####| Elapsed Time: 0:00:12 Time:  0:00:12\n",
            "test/Edgar_Degas 100% (141 of 141) |#####| Elapsed Time: 0:00:01 Time:  0:00:01\n",
            "train/Pablo_Picasso 100% (351 of 351) |##| Elapsed Time: 0:00:07 Time:  0:00:07\n",
            "test/Pablo_Picasso 100% (88 of 88) |#####| Elapsed Time: 0:00:00 Time:  0:00:00\n",
            "train/Pierre-Auguste_Renoir 100% (268 of 268) || Elapsed Time: 0:00:05 Time:  0:00:05\n",
            "test/Pierre-Auguste_Renoir 100% (68 of 68) || Elapsed Time: 0:00:00 Time:  0:00:00\n",
            "train/Paul_Gauguin 100% (248 of 248) |###| Elapsed Time: 0:00:05 Time:  0:00:05\n",
            "test/Paul_Gauguin 100% (63 of 63) |######| Elapsed Time: 0:00:00 Time:  0:00:00\n",
            "train/Francisco_Goya 100% (232 of 232) |#| Elapsed Time: 0:00:04 Time:  0:00:04\n",
            "test/Francisco_Goya 100% (59 of 59) |####| Elapsed Time: 0:00:00 Time:  0:00:00\n",
            "train/Rembrandt 100% (209 of 209) |######| Elapsed Time: 0:00:04 Time:  0:00:04\n",
            "test/Rembrandt 100% (53 of 53) |#########| Elapsed Time: 0:00:00 Time:  0:00:00\n",
            "train/Alfred_Sisley 100% (207 of 207) |##| Elapsed Time: 0:00:04 Time:  0:00:04\n",
            "test/Alfred_Sisley 100% (52 of 52) |#####| Elapsed Time: 0:00:00 Time:  0:00:00\n",
            "train/Titian 100% (204 of 204) |#########| Elapsed Time: 0:00:04 Time:  0:00:04\n",
            "test/Titian 100% (51 of 51) |############| Elapsed Time: 0:00:00 Time:  0:00:00\n"
          ]
        }
      ],
      "source": [
        "# copy images to ImageLoader structure\n",
        "for artist in df_top['name']:\n",
        "\n",
        "    # paths\n",
        "    artist_path = os.path.join(PATH, 'data/images/images', artist)\n",
        "    artist_train_path = os.path.join(PATH, 'data/train', artist)\n",
        "    artist_test_path = os.path.join(PATH, 'data/test', artist)\n",
        "    \n",
        "    if os.path.exists(artist_path):\n",
        "\n",
        "        # delete artist train/test paths\n",
        "        if os.path.exists(artist_train_path):\n",
        "            shutil.rmtree(artist_train_path)\n",
        "        \n",
        "        if os.path.exists(artist_test_path):\n",
        "            shutil.rmtree(artist_test_path)\n",
        "\n",
        "        # create train test directories\n",
        "        os.mkdir(artist_train_path)\n",
        "        os.mkdir(artist_test_path)\n",
        "\n",
        "        # train/test split images\n",
        "        images = os.listdir(artist_path)\n",
        "        train_images, test_images = train_test_split(images, test_size=0.2, random_state=3301)\n",
        "\n",
        "        # copy train images\n",
        "        for image in progressbar(train_images, prefix=f'train/{artist} '):\n",
        "\n",
        "            image_source_path = os.path.join(artist_path, image)\n",
        "            image_target_path = os.path.join(artist_train_path, image)\n",
        "\n",
        "            shutil.copy(image_source_path, image_target_path)\n",
        "\n",
        "        # copy test images\n",
        "        for image in progressbar(test_images, prefix=f'test/{artist} '):\n",
        "\n",
        "            image_source_path = os.path.join(artist_path, image)\n",
        "            image_target_path = os.path.join(artist_test_path, image)\n",
        "\n",
        "            shutil.copy(image_source_path, image_target_path)"
      ]
    },
    {
      "cell_type": "markdown",
      "metadata": {
        "id": "ovxOYG6w8xIw"
      },
      "source": [
        "## torch datasets"
      ]
    },
    {
      "cell_type": "code",
      "execution_count": null,
      "metadata": {
        "id": "BCGStzBv9ItP"
      },
      "outputs": [],
      "source": [
        "# transforms\n",
        "# TODO: agregar transformaciones aleatorias\n",
        "loader_transforms = transforms.Compose([\n",
        "    transforms.ToTensor(),\n",
        "    transforms.Resize((32, 32)),\n",
        "    \n",
        "])"
      ]
    },
    {
      "cell_type": "code",
      "execution_count": null,
      "metadata": {
        "id": "fAziVuvE0K6f"
      },
      "outputs": [],
      "source": [
        "# datasets\n",
        "train_dataset = ImageFolder(root=train_path, transform=loader_transforms)\n",
        "test_dataset = ImageFolder(root=test_path, transform=loader_transforms)"
      ]
    },
    {
      "cell_type": "code",
      "execution_count": null,
      "metadata": {
        "id": "7Htg5uZO-Nl3"
      },
      "outputs": [],
      "source": [
        "# dataloaders\n",
        "train_dataloader = DataLoader(train_dataset, batch_size=64, shuffle=True)\n",
        "test_dataloader = DataLoader(test_dataset, batch_size=64, shuffle=True)"
      ]
    },
    {
      "cell_type": "markdown",
      "metadata": {
        "id": "8r6O0h-kAZT3"
      },
      "source": [
        "# Neural Network"
      ]
    },
    {
      "cell_type": "markdown",
      "metadata": {
        "id": "FL-qPyM6Apzv"
      },
      "source": [
        "## architecture"
      ]
    },
    {
      "cell_type": "code",
      "execution_count": null,
      "metadata": {
        "id": "ICtBDvnpAAq8"
      },
      "outputs": [],
      "source": [
        "class CNN(nn.Module):\n",
        "    def __init__(self):\n",
        "        super().__init__() # hereda todo de nn.Module\n",
        "\n",
        "        # definimos arquitecura de la red\n",
        "        self.conv1 = nn.Conv2d(3, 6, 5)\n",
        "        self.pool = nn.MaxPool2d(2, 2)\n",
        "        self.conv2 = nn.Conv2d(6, 16, 5)\n",
        "\n",
        "        self.fc1 = nn.Linear(16 * 5 * 5, 120) # fc: fully connected\n",
        "        self.fc2 = nn.Linear(120, 84)\n",
        "        self.fc3 = nn.Linear(84, 10) # 10 porque tenemos 10 categorías\n",
        "\n",
        "        self.drop_out = nn.Dropout()\n",
        "\n",
        "    # forward prop / backward prop\n",
        "    def forward(self, x):\n",
        "        x = self.pool(F.relu(self.conv1(x)))\n",
        "        x = self.pool(F.relu(self.conv2(x)))\n",
        "        x = torch.flatten(x, 1) # flatten all dimensions except batch\n",
        "        x = F.relu(self.fc1(x)) #funcion de activacion -- no linealidad \n",
        "        x = F.relu(self.fc2(x)) #funcion de activacion -- no linealidad \n",
        "        x = F.softmax(self.fc3(x), dim=1)\n",
        "\n",
        "        return x"
      ]
    },
    {
      "cell_type": "code",
      "execution_count": null,
      "metadata": {
        "colab": {
          "base_uri": "https://localhost:8080/"
        },
        "id": "WVh09GNsBNR1",
        "outputId": "9eb98d74-c1d3-4f54-ac56-dca17b0653fe"
      },
      "outputs": [
        {
          "output_type": "execute_result",
          "data": {
            "text/plain": [
              "CNN(\n",
              "  (conv1): Conv2d(3, 6, kernel_size=(5, 5), stride=(1, 1))\n",
              "  (pool): MaxPool2d(kernel_size=2, stride=2, padding=0, dilation=1, ceil_mode=False)\n",
              "  (conv2): Conv2d(6, 16, kernel_size=(5, 5), stride=(1, 1))\n",
              "  (fc1): Linear(in_features=400, out_features=120, bias=True)\n",
              "  (fc2): Linear(in_features=120, out_features=84, bias=True)\n",
              "  (fc3): Linear(in_features=84, out_features=10, bias=True)\n",
              "  (drop_out): Dropout(p=0.5, inplace=False)\n",
              ")"
            ]
          },
          "metadata": {},
          "execution_count": 22
        }
      ],
      "source": [
        "# instantiate\n",
        "cnn = CNN()\n",
        "cnn.to(device) # send to device (cpu/gpu)"
      ]
    },
    {
      "cell_type": "markdown",
      "metadata": {
        "id": "4c_AuBLeBCRl"
      },
      "source": [
        "## optimizer"
      ]
    },
    {
      "cell_type": "code",
      "execution_count": null,
      "metadata": {
        "id": "wwHi35JLAzkP"
      },
      "outputs": [],
      "source": [
        "criterion = nn.CrossEntropyLoss() # loss para problemas de multiple-classification\n",
        "optimizer = torch.optim.SGD(cnn.parameters(), lr=0.001, momentum=0.9) # SGD: stochastic gradient descent"
      ]
    },
    {
      "cell_type": "markdown",
      "metadata": {
        "id": "DnI2tWAEwBq3"
      },
      "source": [
        "## train"
      ]
    },
    {
      "cell_type": "code",
      "source": [
        "epochs = 100"
      ],
      "metadata": {
        "id": "aM-PRhNRqF5W"
      },
      "execution_count": null,
      "outputs": []
    },
    {
      "cell_type": "code",
      "execution_count": null,
      "metadata": {
        "id": "4dDUGhBWBaTW",
        "colab": {
          "base_uri": "https://localhost:8080/"
        },
        "outputId": "0a91444e-a08c-4c07-a5ca-54a891933544"
      },
      "outputs": [
        {
          "output_type": "stream",
          "name": "stderr",
          "text": [
            "Epoc: 100% (100 of 100) |################| Elapsed Time: 3:15:30 Time:  3:15:30\n"
          ]
        },
        {
          "output_type": "stream",
          "name": "stdout",
          "text": [
            "Finished Training\n"
          ]
        }
      ],
      "source": [
        "# loop de entrenamiento: cada iteración de esta cosa actualiza los pesos de la red\n",
        "loss_history = []\n",
        "for epoch in progressbar(range(epochs), prefix='Epoc: '):  # loop over the dataset multiple times\n",
        "\n",
        "    running_loss = 0.0\n",
        "    for i, data in enumerate(train_dataloader, 0):\n",
        "        \n",
        "        # get the inputs; data is a list of [inputs, labels]\n",
        "        inputs, labels = data[0].to(device), data[1].to(device)\n",
        "\n",
        "        # zero the parameter gradients\n",
        "        optimizer.zero_grad()\n",
        "\n",
        "        # forward + backward + optimize\n",
        "        outputs = cnn(inputs)\n",
        "        loss = criterion(outputs, labels)\n",
        "        loss.backward()  # sacar la derivada\n",
        "        optimizer.step()  # gradient descent\n",
        "\n",
        "        # print statistics\n",
        "        running_loss += loss.item()\n",
        "        # if i % 2000 == 1999:    # print every 2000 mini-batches\n",
        "            # print(f'[{epoch + 1}, {i + 1:5d}] loss: {running_loss / 2000:.3f}')\n",
        "            # running_loss = 0.0\n",
        "\n",
        "    loss_history.append(running_loss)\n",
        "print('Finished Training')"
      ]
    },
    {
      "cell_type": "code",
      "source": [
        "model_path = os.path.join(PATH, f'model_{epochs}_epochs.pth')"
      ],
      "metadata": {
        "id": "8BYH8NwFqIpb"
      },
      "execution_count": null,
      "outputs": []
    },
    {
      "cell_type": "code",
      "execution_count": null,
      "metadata": {
        "id": "PdVc6aLDC1U3"
      },
      "outputs": [],
      "source": [
        "# save trained model\n",
        "torch.save(cnn.state_dict(), model_path)"
      ]
    },
    {
      "cell_type": "code",
      "source": [
        "# plot train loss over training\n",
        "fig, ax = plt.subplots()\n",
        "ax.plot(loss_history, label='train')\n",
        "ax.set_xlabel('epoch')\n",
        "ax.set_ylabel('loss')\n",
        "ax.legend()"
      ],
      "metadata": {
        "id": "fDs9w42Ar0r9",
        "colab": {
          "base_uri": "https://localhost:8080/",
          "height": 305
        },
        "outputId": "bc0caee6-f85a-4492-b4c3-17b574dd4d26"
      },
      "execution_count": null,
      "outputs": [
        {
          "output_type": "execute_result",
          "data": {
            "text/plain": [
              "<matplotlib.legend.Legend at 0x7fd7a06af990>"
            ]
          },
          "metadata": {},
          "execution_count": 38
        },
        {
          "output_type": "display_data",
          "data": {
            "text/plain": [
              "<Figure size 432x288 with 1 Axes>"
            ],
            "image/png": "[encoded data removed]"
          },
          "metadata": {
            "needs_background": "light"
          }
        }
      ]
    },
    {
      "cell_type": "markdown",
      "source": [
        "# evaluate classifier"
      ],
      "metadata": {
        "id": "gGcXNLFzZ0rp"
      }
    },
    {
      "cell_type": "code",
      "source": [
        "model_path = os.path.join(PATH, f'model_100_epochs.pth')"
      ],
      "metadata": {
        "id": "fSmWdN054RQg"
      },
      "execution_count": null,
      "outputs": []
    },
    {
      "cell_type": "code",
      "source": [
        "# load moel\n",
        "net = CNN()\n",
        "net.load_state_dict(torch.load(model_path))"
      ],
      "metadata": {
        "colab": {
          "base_uri": "https://localhost:8080/"
        },
        "id": "scvumhN5Z9Hb",
        "outputId": "b778386c-e512-4ae4-f07a-b8f11c7e0d0f"
      },
      "execution_count": null,
      "outputs": [
        {
          "output_type": "execute_result",
          "data": {
            "text/plain": [
              "<All keys matched successfully>"
            ]
          },
          "metadata": {},
          "execution_count": 24
        }
      ]
    },
    {
      "cell_type": "code",
      "source": [
        "# image iterator\n",
        "dataiter = iter(test_dataloader)\n",
        "images, labels = dataiter.next()"
      ],
      "metadata": {
        "id": "YS-rT16daakM"
      },
      "execution_count": null,
      "outputs": []
    },
    {
      "cell_type": "code",
      "source": [
        "# evaluate predictions over all dataset\n",
        "correct = 0\n",
        "total = 0\n",
        "\n",
        "# no gradient necessary, only needed for training\n",
        "with torch.no_grad():\n",
        "    for data in test_dataloader:\n",
        "        # load batch\n",
        "        images, labels = data\n",
        "\n",
        "        # calculate outputs by running images through the network\n",
        "        outputs = net(images)\n",
        "\n",
        "        # the class with the highest activation value is the predicted class\n",
        "        _, predicted = torch.max(outputs.data, 1)\n",
        "        total += labels.size(0)\n",
        "        correct += (predicted == labels).sum().item()\n",
        "\n",
        "print(f'Accuracy of the network on test set: {100 * correct // total} %')"
      ],
      "metadata": {
        "colab": {
          "base_uri": "https://localhost:8080/"
        },
        "id": "4mBdOeLXad86",
        "outputId": "3ff541d8-e3ca-4197-855e-70ed8d1d854a"
      },
      "execution_count": null,
      "outputs": [
        {
          "output_type": "stream",
          "name": "stdout",
          "text": [
            "Accuracy of the network on test set: 26 %\n"
          ]
        }
      ]
    },
    {
      "cell_type": "code",
      "source": [],
      "metadata": {
        "id": "L6GOuglXsfUJ"
      },
      "execution_count": null,
      "outputs": []
    },
    {
      "cell_type": "code",
      "source": [],
      "metadata": {
        "id": "EKFTjCHIqux_"
      },
      "execution_count": null,
      "outputs": []
    }
  ],
  "metadata": {
    "colab": {
      "collapsed_sections": [],
      "provenance": [],
      "toc_visible": true
    },
    "kernelspec": {
      "display_name": "Python 3",
      "name": "python3"
    },
    "language_info": {
      "name": "python"
    },
    "accelerator": "GPU"
  },
  "nbformat": 4,
  "nbformat_minor": 0
}